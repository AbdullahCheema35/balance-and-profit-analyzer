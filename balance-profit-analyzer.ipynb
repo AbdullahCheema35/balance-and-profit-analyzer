{
 "cells": [
  {
   "cell_type": "code",
   "execution_count": 3,
   "metadata": {},
   "outputs": [],
   "source": [
    "import pandas as pd"
   ]
  },
  {
   "cell_type": "code",
   "execution_count": 7,
   "metadata": {},
   "outputs": [
    {
     "name": "stdout",
     "output_type": "stream",
     "text": [
      "Index(['Transaction Date ', 'Description ', 'Debit ', 'Credit ',\n",
      "       'Available Balance '],\n",
      "      dtype='object')\n"
     ]
    }
   ],
   "source": [
    "# Read CSV file\n",
    "file_name: str = \"Account Statement 2023-2024.CSV\"\n",
    "df = pd.read_csv(file_name)\n",
    "\n",
    "# Print columns of bank statement\n",
    "print(df.columns)"
   ]
  }
 ],
 "metadata": {
  "kernelspec": {
   "display_name": "venv",
   "language": "python",
   "name": "python3"
  },
  "language_info": {
   "codemirror_mode": {
    "name": "ipython",
    "version": 3
   },
   "file_extension": ".py",
   "mimetype": "text/x-python",
   "name": "python",
   "nbconvert_exporter": "python",
   "pygments_lexer": "ipython3",
   "version": "3.12.6"
  }
 },
 "nbformat": 4,
 "nbformat_minor": 2
}
